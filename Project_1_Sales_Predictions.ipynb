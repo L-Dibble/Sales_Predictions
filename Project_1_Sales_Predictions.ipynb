{
  "nbformat": 4,
  "nbformat_minor": 0,
  "metadata": {
    "colab": {
      "name": "Project_1_Sales_Predictions.ipynb",
      "provenance": [],
      "mount_file_id": "1SjEd92e0CTL35HY2-l1XPQAvX65guMK1",
      "authorship_tag": "ABX9TyOMiPcvfPdqhf4X8Sqwz1A5"
    },
    "kernelspec": {
      "name": "python3",
      "display_name": "Python 3"
    },
    "language_info": {
      "name": "python"
    }
  },
  "cells": [
    {
      "cell_type": "markdown",
      "metadata": {
        "id": "zISgWcrAuyrV"
      },
      "source": [
        "Sales Predictions Project 1 - Part 1\n",
        "----\n",
        "Luke Dibble"
      ]
    },
    {
      "cell_type": "code",
      "metadata": {
        "colab": {
          "base_uri": "https://localhost:8080/",
          "height": 309
        },
        "id": "KYPRSjwVvE5f",
        "outputId": "709d3927-1250-42bf-e54d-76561b028058"
      },
      "source": [
        "import pandas as pd\n",
        "import numpy as np\n",
        "import matplotlib.pyplot as plt\n",
        "import seaborn as sns\n",
        "\n",
        "filename = \"/content/sales_predictions.csv\"\n",
        "\n",
        "sales_df = pd.read_csv(filename)\n",
        "sales_df.head()\n"
      ],
      "execution_count": 235,
      "outputs": [
        {
          "output_type": "execute_result",
          "data": {
            "text/html": [
              "<div>\n",
              "<style scoped>\n",
              "    .dataframe tbody tr th:only-of-type {\n",
              "        vertical-align: middle;\n",
              "    }\n",
              "\n",
              "    .dataframe tbody tr th {\n",
              "        vertical-align: top;\n",
              "    }\n",
              "\n",
              "    .dataframe thead th {\n",
              "        text-align: right;\n",
              "    }\n",
              "</style>\n",
              "<table border=\"1\" class=\"dataframe\">\n",
              "  <thead>\n",
              "    <tr style=\"text-align: right;\">\n",
              "      <th></th>\n",
              "      <th>Item_Identifier</th>\n",
              "      <th>Item_Weight</th>\n",
              "      <th>Item_Fat_Content</th>\n",
              "      <th>Item_Visibility</th>\n",
              "      <th>Item_Type</th>\n",
              "      <th>Item_MRP</th>\n",
              "      <th>Outlet_Identifier</th>\n",
              "      <th>Outlet_Establishment_Year</th>\n",
              "      <th>Outlet_Size</th>\n",
              "      <th>Outlet_Location_Type</th>\n",
              "      <th>Outlet_Type</th>\n",
              "      <th>Item_Outlet_Sales</th>\n",
              "    </tr>\n",
              "  </thead>\n",
              "  <tbody>\n",
              "    <tr>\n",
              "      <th>0</th>\n",
              "      <td>FDA15</td>\n",
              "      <td>9.30</td>\n",
              "      <td>Low Fat</td>\n",
              "      <td>0.016047</td>\n",
              "      <td>Dairy</td>\n",
              "      <td>249.8092</td>\n",
              "      <td>OUT049</td>\n",
              "      <td>1999</td>\n",
              "      <td>Medium</td>\n",
              "      <td>Tier 1</td>\n",
              "      <td>Supermarket Type1</td>\n",
              "      <td>3735.1380</td>\n",
              "    </tr>\n",
              "    <tr>\n",
              "      <th>1</th>\n",
              "      <td>DRC01</td>\n",
              "      <td>5.92</td>\n",
              "      <td>Regular</td>\n",
              "      <td>0.019278</td>\n",
              "      <td>Soft Drinks</td>\n",
              "      <td>48.2692</td>\n",
              "      <td>OUT018</td>\n",
              "      <td>2009</td>\n",
              "      <td>Medium</td>\n",
              "      <td>Tier 3</td>\n",
              "      <td>Supermarket Type2</td>\n",
              "      <td>443.4228</td>\n",
              "    </tr>\n",
              "    <tr>\n",
              "      <th>2</th>\n",
              "      <td>FDN15</td>\n",
              "      <td>17.50</td>\n",
              "      <td>Low Fat</td>\n",
              "      <td>0.016760</td>\n",
              "      <td>Meat</td>\n",
              "      <td>141.6180</td>\n",
              "      <td>OUT049</td>\n",
              "      <td>1999</td>\n",
              "      <td>Medium</td>\n",
              "      <td>Tier 1</td>\n",
              "      <td>Supermarket Type1</td>\n",
              "      <td>2097.2700</td>\n",
              "    </tr>\n",
              "    <tr>\n",
              "      <th>3</th>\n",
              "      <td>FDX07</td>\n",
              "      <td>19.20</td>\n",
              "      <td>Regular</td>\n",
              "      <td>0.000000</td>\n",
              "      <td>Fruits and Vegetables</td>\n",
              "      <td>182.0950</td>\n",
              "      <td>OUT010</td>\n",
              "      <td>1998</td>\n",
              "      <td>NaN</td>\n",
              "      <td>Tier 3</td>\n",
              "      <td>Grocery Store</td>\n",
              "      <td>732.3800</td>\n",
              "    </tr>\n",
              "    <tr>\n",
              "      <th>4</th>\n",
              "      <td>NCD19</td>\n",
              "      <td>8.93</td>\n",
              "      <td>Low Fat</td>\n",
              "      <td>0.000000</td>\n",
              "      <td>Household</td>\n",
              "      <td>53.8614</td>\n",
              "      <td>OUT013</td>\n",
              "      <td>1987</td>\n",
              "      <td>High</td>\n",
              "      <td>Tier 3</td>\n",
              "      <td>Supermarket Type1</td>\n",
              "      <td>994.7052</td>\n",
              "    </tr>\n",
              "  </tbody>\n",
              "</table>\n",
              "</div>"
            ],
            "text/plain": [
              "  Item_Identifier  Item_Weight  ...        Outlet_Type  Item_Outlet_Sales\n",
              "0           FDA15         9.30  ...  Supermarket Type1          3735.1380\n",
              "1           DRC01         5.92  ...  Supermarket Type2           443.4228\n",
              "2           FDN15        17.50  ...  Supermarket Type1          2097.2700\n",
              "3           FDX07        19.20  ...      Grocery Store           732.3800\n",
              "4           NCD19         8.93  ...  Supermarket Type1           994.7052\n",
              "\n",
              "[5 rows x 12 columns]"
            ]
          },
          "metadata": {},
          "execution_count": 235
        }
      ]
    },
    {
      "cell_type": "code",
      "metadata": {
        "colab": {
          "base_uri": "https://localhost:8080/"
        },
        "id": "AEU3F-NLCG-B",
        "outputId": "071eed94-0b67-4813-d754-b5cfdc6e3646"
      },
      "source": [
        "sales_df = sales_df.drop(columns= 'Outlet_Establishment_Year')\n",
        "sales_df.info()"
      ],
      "execution_count": 236,
      "outputs": [
        {
          "output_type": "stream",
          "text": [
            "<class 'pandas.core.frame.DataFrame'>\n",
            "RangeIndex: 8523 entries, 0 to 8522\n",
            "Data columns (total 11 columns):\n",
            " #   Column                Non-Null Count  Dtype  \n",
            "---  ------                --------------  -----  \n",
            " 0   Item_Identifier       8523 non-null   object \n",
            " 1   Item_Weight           7060 non-null   float64\n",
            " 2   Item_Fat_Content      8523 non-null   object \n",
            " 3   Item_Visibility       8523 non-null   float64\n",
            " 4   Item_Type             8523 non-null   object \n",
            " 5   Item_MRP              8523 non-null   float64\n",
            " 6   Outlet_Identifier     8523 non-null   object \n",
            " 7   Outlet_Size           6113 non-null   object \n",
            " 8   Outlet_Location_Type  8523 non-null   object \n",
            " 9   Outlet_Type           8523 non-null   object \n",
            " 10  Item_Outlet_Sales     8523 non-null   float64\n",
            "dtypes: float64(4), object(7)\n",
            "memory usage: 732.6+ KB\n"
          ],
          "name": "stdout"
        }
      ]
    },
    {
      "cell_type": "code",
      "metadata": {
        "colab": {
          "base_uri": "https://localhost:8080/"
        },
        "id": "mw-AhYgNJEAo",
        "outputId": "1cb882d6-b448-40f7-885b-869b84a51eb2"
      },
      "source": [
        "sales_df.duplicated().any()"
      ],
      "execution_count": 237,
      "outputs": [
        {
          "output_type": "execute_result",
          "data": {
            "text/plain": [
              "False"
            ]
          },
          "metadata": {},
          "execution_count": 237
        }
      ]
    },
    {
      "cell_type": "code",
      "metadata": {
        "colab": {
          "base_uri": "https://localhost:8080/"
        },
        "id": "Hbfw7O3ZJP69",
        "outputId": "07f71daa-c84a-40dc-de7c-c8c91b1bf5a5"
      },
      "source": [
        "sales_df['Item_Fat_Content'].value_counts()"
      ],
      "execution_count": 238,
      "outputs": [
        {
          "output_type": "execute_result",
          "data": {
            "text/plain": [
              "Low Fat    5089\n",
              "Regular    2889\n",
              "LF          316\n",
              "reg         117\n",
              "low fat     112\n",
              "Name: Item_Fat_Content, dtype: int64"
            ]
          },
          "metadata": {},
          "execution_count": 238
        }
      ]
    },
    {
      "cell_type": "code",
      "metadata": {
        "colab": {
          "base_uri": "https://localhost:8080/"
        },
        "id": "1HYQ2Po7Jwqa",
        "outputId": "628f6249-c6ce-4fe2-e50b-b64926d1f5d9"
      },
      "source": [
        "sales_df['Item_Fat_Content'] = sales_df['Item_Fat_Content'].replace(['LF'],'Low Fat')\n",
        "sales_df['Item_Fat_Content'] = sales_df['Item_Fat_Content'].replace(['low fat'],'Low Fat')\n",
        "sales_df['Item_Fat_Content'] = sales_df['Item_Fat_Content'].replace(['reg'],'Regular')\n",
        "sales_df['Item_Fat_Content'].value_counts()"
      ],
      "execution_count": 239,
      "outputs": [
        {
          "output_type": "execute_result",
          "data": {
            "text/plain": [
              "Low Fat    5517\n",
              "Regular    3006\n",
              "Name: Item_Fat_Content, dtype: int64"
            ]
          },
          "metadata": {},
          "execution_count": 239
        }
      ]
    },
    {
      "cell_type": "code",
      "metadata": {
        "colab": {
          "base_uri": "https://localhost:8080/"
        },
        "id": "6XpkJgceKW1q",
        "outputId": "309a717c-1674-4bd5-c275-0c3f42021b96"
      },
      "source": [
        "sales_df['Item_Type'].value_counts()"
      ],
      "execution_count": 240,
      "outputs": [
        {
          "output_type": "execute_result",
          "data": {
            "text/plain": [
              "Fruits and Vegetables    1232\n",
              "Snack Foods              1200\n",
              "Household                 910\n",
              "Frozen Foods              856\n",
              "Dairy                     682\n",
              "Canned                    649\n",
              "Baking Goods              648\n",
              "Health and Hygiene        520\n",
              "Soft Drinks               445\n",
              "Meat                      425\n",
              "Breads                    251\n",
              "Hard Drinks               214\n",
              "Others                    169\n",
              "Starchy Foods             148\n",
              "Breakfast                 110\n",
              "Seafood                    64\n",
              "Name: Item_Type, dtype: int64"
            ]
          },
          "metadata": {},
          "execution_count": 240
        }
      ]
    },
    {
      "cell_type": "code",
      "metadata": {
        "colab": {
          "base_uri": "https://localhost:8080/"
        },
        "id": "AsB6gkhwdP5L",
        "outputId": "88b2a172-17cc-4ce4-e065-81c20507abb0"
      },
      "source": [
        "sales_df['Item_Identifier'].value_counts()"
      ],
      "execution_count": 241,
      "outputs": [
        {
          "output_type": "execute_result",
          "data": {
            "text/plain": [
              "FDW13    10\n",
              "FDG33    10\n",
              "DRN47     9\n",
              "FDX20     9\n",
              "NCB18     9\n",
              "         ..\n",
              "DRF48     1\n",
              "FDN52     1\n",
              "FDT35     1\n",
              "FDK57     1\n",
              "FDO33     1\n",
              "Name: Item_Identifier, Length: 1559, dtype: int64"
            ]
          },
          "metadata": {},
          "execution_count": 241
        }
      ]
    },
    {
      "cell_type": "code",
      "metadata": {
        "colab": {
          "base_uri": "https://localhost:8080/"
        },
        "id": "qRNXOCtKKh36",
        "outputId": "da46fde1-3101-400d-cde4-772fb83e1655"
      },
      "source": [
        "sales_df['Outlet_Size'].value_counts()"
      ],
      "execution_count": 242,
      "outputs": [
        {
          "output_type": "execute_result",
          "data": {
            "text/plain": [
              "Medium    2793\n",
              "Small     2388\n",
              "High       932\n",
              "Name: Outlet_Size, dtype: int64"
            ]
          },
          "metadata": {},
          "execution_count": 242
        }
      ]
    },
    {
      "cell_type": "code",
      "metadata": {
        "colab": {
          "base_uri": "https://localhost:8080/"
        },
        "id": "dCZVVJPnKlu9",
        "outputId": "9a330e7a-7d90-4f4e-9ec0-d737050b56b7"
      },
      "source": [
        "sales_df['Outlet_Type'].value_counts()"
      ],
      "execution_count": 243,
      "outputs": [
        {
          "output_type": "execute_result",
          "data": {
            "text/plain": [
              "Supermarket Type1    5577\n",
              "Grocery Store        1083\n",
              "Supermarket Type3     935\n",
              "Supermarket Type2     928\n",
              "Name: Outlet_Type, dtype: int64"
            ]
          },
          "metadata": {},
          "execution_count": 243
        }
      ]
    },
    {
      "cell_type": "code",
      "metadata": {
        "colab": {
          "base_uri": "https://localhost:8080/",
          "height": 204
        },
        "id": "R9FRYLSw2zrI",
        "outputId": "6fa9a930-2887-4a1a-fd50-2a1872895483"
      },
      "source": [
        "#Create filters\n",
        "outlet10 = sales_df['Outlet_Identifier'] == 'OUT010'\n",
        "outlet13 = sales_df['Outlet_Identifier'] == 'OUT013'\n",
        "outlet17 = sales_df['Outlet_Identifier'] == 'OUT017'\n",
        "outlet18 = sales_df['Outlet_Identifier'] == 'OUT018'\n",
        "outlet19 = sales_df['Outlet_Identifier'] == 'OUT019'\n",
        "outlet27 = sales_df['Outlet_Identifier'] == 'OUT027'\n",
        "outlet35 = sales_df['Outlet_Identifier'] == 'OUT035'\n",
        "outlet45 = sales_df['Outlet_Identifier'] == 'OUT045'\n",
        "outlet46 = sales_df['Outlet_Identifier'] == 'OUT046'\n",
        "outlet49 = sales_df['Outlet_Identifier'] == 'OUT049'\n",
        "sales_df[outlet49].head()"
      ],
      "execution_count": 244,
      "outputs": [
        {
          "output_type": "execute_result",
          "data": {
            "text/html": [
              "<div>\n",
              "<style scoped>\n",
              "    .dataframe tbody tr th:only-of-type {\n",
              "        vertical-align: middle;\n",
              "    }\n",
              "\n",
              "    .dataframe tbody tr th {\n",
              "        vertical-align: top;\n",
              "    }\n",
              "\n",
              "    .dataframe thead th {\n",
              "        text-align: right;\n",
              "    }\n",
              "</style>\n",
              "<table border=\"1\" class=\"dataframe\">\n",
              "  <thead>\n",
              "    <tr style=\"text-align: right;\">\n",
              "      <th></th>\n",
              "      <th>Item_Identifier</th>\n",
              "      <th>Item_Weight</th>\n",
              "      <th>Item_Fat_Content</th>\n",
              "      <th>Item_Visibility</th>\n",
              "      <th>Item_Type</th>\n",
              "      <th>Item_MRP</th>\n",
              "      <th>Outlet_Identifier</th>\n",
              "      <th>Outlet_Size</th>\n",
              "      <th>Outlet_Location_Type</th>\n",
              "      <th>Outlet_Type</th>\n",
              "      <th>Item_Outlet_Sales</th>\n",
              "    </tr>\n",
              "  </thead>\n",
              "  <tbody>\n",
              "    <tr>\n",
              "      <th>0</th>\n",
              "      <td>FDA15</td>\n",
              "      <td>9.3</td>\n",
              "      <td>Low Fat</td>\n",
              "      <td>0.016047</td>\n",
              "      <td>Dairy</td>\n",
              "      <td>249.8092</td>\n",
              "      <td>OUT049</td>\n",
              "      <td>Medium</td>\n",
              "      <td>Tier 1</td>\n",
              "      <td>Supermarket Type1</td>\n",
              "      <td>3735.1380</td>\n",
              "    </tr>\n",
              "    <tr>\n",
              "      <th>2</th>\n",
              "      <td>FDN15</td>\n",
              "      <td>17.5</td>\n",
              "      <td>Low Fat</td>\n",
              "      <td>0.016760</td>\n",
              "      <td>Meat</td>\n",
              "      <td>141.6180</td>\n",
              "      <td>OUT049</td>\n",
              "      <td>Medium</td>\n",
              "      <td>Tier 1</td>\n",
              "      <td>Supermarket Type1</td>\n",
              "      <td>2097.2700</td>\n",
              "    </tr>\n",
              "    <tr>\n",
              "      <th>10</th>\n",
              "      <td>FDY07</td>\n",
              "      <td>11.8</td>\n",
              "      <td>Low Fat</td>\n",
              "      <td>0.000000</td>\n",
              "      <td>Fruits and Vegetables</td>\n",
              "      <td>45.5402</td>\n",
              "      <td>OUT049</td>\n",
              "      <td>Medium</td>\n",
              "      <td>Tier 1</td>\n",
              "      <td>Supermarket Type1</td>\n",
              "      <td>1516.0266</td>\n",
              "    </tr>\n",
              "    <tr>\n",
              "      <th>12</th>\n",
              "      <td>FDX32</td>\n",
              "      <td>15.1</td>\n",
              "      <td>Regular</td>\n",
              "      <td>0.100014</td>\n",
              "      <td>Fruits and Vegetables</td>\n",
              "      <td>145.4786</td>\n",
              "      <td>OUT049</td>\n",
              "      <td>Medium</td>\n",
              "      <td>Tier 1</td>\n",
              "      <td>Supermarket Type1</td>\n",
              "      <td>1589.2646</td>\n",
              "    </tr>\n",
              "    <tr>\n",
              "      <th>17</th>\n",
              "      <td>FDP49</td>\n",
              "      <td>9.0</td>\n",
              "      <td>Regular</td>\n",
              "      <td>0.069196</td>\n",
              "      <td>Breakfast</td>\n",
              "      <td>54.3614</td>\n",
              "      <td>OUT049</td>\n",
              "      <td>Medium</td>\n",
              "      <td>Tier 1</td>\n",
              "      <td>Supermarket Type1</td>\n",
              "      <td>718.3982</td>\n",
              "    </tr>\n",
              "  </tbody>\n",
              "</table>\n",
              "</div>"
            ],
            "text/plain": [
              "   Item_Identifier  Item_Weight  ...        Outlet_Type  Item_Outlet_Sales\n",
              "0            FDA15          9.3  ...  Supermarket Type1          3735.1380\n",
              "2            FDN15         17.5  ...  Supermarket Type1          2097.2700\n",
              "10           FDY07         11.8  ...  Supermarket Type1          1516.0266\n",
              "12           FDX32         15.1  ...  Supermarket Type1          1589.2646\n",
              "17           FDP49          9.0  ...  Supermarket Type1           718.3982\n",
              "\n",
              "[5 rows x 11 columns]"
            ]
          },
          "metadata": {},
          "execution_count": 244
        }
      ]
    },
    {
      "cell_type": "markdown",
      "metadata": {
        "id": "EjjQzvuO4PDB"
      },
      "source": [
        "OUT010, OUT017, OUT045 - No Outlet Identifiers\n",
        "\n",
        "OUT019, OUT027 - No Item Weight\n",
        "\n"
      ]
    },
    {
      "cell_type": "code",
      "metadata": {
        "colab": {
          "base_uri": "https://localhost:8080/"
        },
        "id": "_C2w29RHMzrP",
        "outputId": "597c67b5-dc9d-4641-c2b0-781f39aada5e"
      },
      "source": [
        "sales_df.isnull().sum()"
      ],
      "execution_count": 245,
      "outputs": [
        {
          "output_type": "execute_result",
          "data": {
            "text/plain": [
              "Item_Identifier            0\n",
              "Item_Weight             1463\n",
              "Item_Fat_Content           0\n",
              "Item_Visibility            0\n",
              "Item_Type                  0\n",
              "Item_MRP                   0\n",
              "Outlet_Identifier          0\n",
              "Outlet_Size             2410\n",
              "Outlet_Location_Type       0\n",
              "Outlet_Type                0\n",
              "Item_Outlet_Sales          0\n",
              "dtype: int64"
            ]
          },
          "metadata": {},
          "execution_count": 245
        }
      ]
    },
    {
      "cell_type": "code",
      "metadata": {
        "id": "zqCzELSaEeUx"
      },
      "source": [
        "from sklearn.impute import SimpleImputer\n",
        "imputer = SimpleImputer(missing_values=np.NaN, strategy='most_frequent', add_indicator = True)\n",
        "sales_df['Outlet_Size'] = imputer.fit_transform(sales_df['Outlet_Size'].values.reshape(-1,1))[:,0]"
      ],
      "execution_count": 246,
      "outputs": []
    },
    {
      "cell_type": "code",
      "metadata": {
        "id": "lQjljnP_nzyo",
        "colab": {
          "base_uri": "https://localhost:8080/"
        },
        "outputId": "35f4b9b4-7f2e-463a-9577-9607959bfe6f"
      },
      "source": [
        "imputer = SimpleImputer(missing_values=np.NaN, strategy='mean', add_indicator = True)\n",
        "sales_df['Item_Weight'] = imputer.fit_transform(sales_df['Item_Weight'].values.reshape(-1,1))[:,0]\n",
        "sales_df.isnull().sum()"
      ],
      "execution_count": 247,
      "outputs": [
        {
          "output_type": "execute_result",
          "data": {
            "text/plain": [
              "Item_Identifier         0\n",
              "Item_Weight             0\n",
              "Item_Fat_Content        0\n",
              "Item_Visibility         0\n",
              "Item_Type               0\n",
              "Item_MRP                0\n",
              "Outlet_Identifier       0\n",
              "Outlet_Size             0\n",
              "Outlet_Location_Type    0\n",
              "Outlet_Type             0\n",
              "Item_Outlet_Sales       0\n",
              "dtype: int64"
            ]
          },
          "metadata": {},
          "execution_count": 247
        }
      ]
    },
    {
      "cell_type": "code",
      "metadata": {
        "colab": {
          "base_uri": "https://localhost:8080/",
          "height": 390
        },
        "id": "nIcjaQVApJi1",
        "outputId": "5cbcc667-4236-4c78-e3db-9760981172f2"
      },
      "source": [
        "#Which Outlet has the most in sales\n",
        "sales_df.groupby(['Outlet_Identifier'])[['Item_Outlet_Sales']].sum()"
      ],
      "execution_count": 248,
      "outputs": [
        {
          "output_type": "execute_result",
          "data": {
            "text/html": [
              "<div>\n",
              "<style scoped>\n",
              "    .dataframe tbody tr th:only-of-type {\n",
              "        vertical-align: middle;\n",
              "    }\n",
              "\n",
              "    .dataframe tbody tr th {\n",
              "        vertical-align: top;\n",
              "    }\n",
              "\n",
              "    .dataframe thead th {\n",
              "        text-align: right;\n",
              "    }\n",
              "</style>\n",
              "<table border=\"1\" class=\"dataframe\">\n",
              "  <thead>\n",
              "    <tr style=\"text-align: right;\">\n",
              "      <th></th>\n",
              "      <th>Item_Outlet_Sales</th>\n",
              "    </tr>\n",
              "    <tr>\n",
              "      <th>Outlet_Identifier</th>\n",
              "      <th></th>\n",
              "    </tr>\n",
              "  </thead>\n",
              "  <tbody>\n",
              "    <tr>\n",
              "      <th>OUT010</th>\n",
              "      <td>1.883402e+05</td>\n",
              "    </tr>\n",
              "    <tr>\n",
              "      <th>OUT013</th>\n",
              "      <td>2.142664e+06</td>\n",
              "    </tr>\n",
              "    <tr>\n",
              "      <th>OUT017</th>\n",
              "      <td>2.167465e+06</td>\n",
              "    </tr>\n",
              "    <tr>\n",
              "      <th>OUT018</th>\n",
              "      <td>1.851823e+06</td>\n",
              "    </tr>\n",
              "    <tr>\n",
              "      <th>OUT019</th>\n",
              "      <td>1.796941e+05</td>\n",
              "    </tr>\n",
              "    <tr>\n",
              "      <th>OUT027</th>\n",
              "      <td>3.453926e+06</td>\n",
              "    </tr>\n",
              "    <tr>\n",
              "      <th>OUT035</th>\n",
              "      <td>2.268123e+06</td>\n",
              "    </tr>\n",
              "    <tr>\n",
              "      <th>OUT045</th>\n",
              "      <td>2.036725e+06</td>\n",
              "    </tr>\n",
              "    <tr>\n",
              "      <th>OUT046</th>\n",
              "      <td>2.118395e+06</td>\n",
              "    </tr>\n",
              "    <tr>\n",
              "      <th>OUT049</th>\n",
              "      <td>2.183970e+06</td>\n",
              "    </tr>\n",
              "  </tbody>\n",
              "</table>\n",
              "</div>"
            ],
            "text/plain": [
              "                   Item_Outlet_Sales\n",
              "Outlet_Identifier                   \n",
              "OUT010                  1.883402e+05\n",
              "OUT013                  2.142664e+06\n",
              "OUT017                  2.167465e+06\n",
              "OUT018                  1.851823e+06\n",
              "OUT019                  1.796941e+05\n",
              "OUT027                  3.453926e+06\n",
              "OUT035                  2.268123e+06\n",
              "OUT045                  2.036725e+06\n",
              "OUT046                  2.118395e+06\n",
              "OUT049                  2.183970e+06"
            ]
          },
          "metadata": {},
          "execution_count": 248
        }
      ]
    },
    {
      "cell_type": "code",
      "metadata": {
        "colab": {
          "base_uri": "https://localhost:8080/",
          "height": 390
        },
        "id": "smy8dyfzdVBf",
        "outputId": "9ed89ce7-073b-4d03-9051-cbb479ce5c6b"
      },
      "source": [
        "#Item countby store\n",
        "sales_df.groupby(['Outlet_Identifier'])[['Item_Identifier']].count()"
      ],
      "execution_count": 249,
      "outputs": [
        {
          "output_type": "execute_result",
          "data": {
            "text/html": [
              "<div>\n",
              "<style scoped>\n",
              "    .dataframe tbody tr th:only-of-type {\n",
              "        vertical-align: middle;\n",
              "    }\n",
              "\n",
              "    .dataframe tbody tr th {\n",
              "        vertical-align: top;\n",
              "    }\n",
              "\n",
              "    .dataframe thead th {\n",
              "        text-align: right;\n",
              "    }\n",
              "</style>\n",
              "<table border=\"1\" class=\"dataframe\">\n",
              "  <thead>\n",
              "    <tr style=\"text-align: right;\">\n",
              "      <th></th>\n",
              "      <th>Item_Identifier</th>\n",
              "    </tr>\n",
              "    <tr>\n",
              "      <th>Outlet_Identifier</th>\n",
              "      <th></th>\n",
              "    </tr>\n",
              "  </thead>\n",
              "  <tbody>\n",
              "    <tr>\n",
              "      <th>OUT010</th>\n",
              "      <td>555</td>\n",
              "    </tr>\n",
              "    <tr>\n",
              "      <th>OUT013</th>\n",
              "      <td>932</td>\n",
              "    </tr>\n",
              "    <tr>\n",
              "      <th>OUT017</th>\n",
              "      <td>926</td>\n",
              "    </tr>\n",
              "    <tr>\n",
              "      <th>OUT018</th>\n",
              "      <td>928</td>\n",
              "    </tr>\n",
              "    <tr>\n",
              "      <th>OUT019</th>\n",
              "      <td>528</td>\n",
              "    </tr>\n",
              "    <tr>\n",
              "      <th>OUT027</th>\n",
              "      <td>935</td>\n",
              "    </tr>\n",
              "    <tr>\n",
              "      <th>OUT035</th>\n",
              "      <td>930</td>\n",
              "    </tr>\n",
              "    <tr>\n",
              "      <th>OUT045</th>\n",
              "      <td>929</td>\n",
              "    </tr>\n",
              "    <tr>\n",
              "      <th>OUT046</th>\n",
              "      <td>930</td>\n",
              "    </tr>\n",
              "    <tr>\n",
              "      <th>OUT049</th>\n",
              "      <td>930</td>\n",
              "    </tr>\n",
              "  </tbody>\n",
              "</table>\n",
              "</div>"
            ],
            "text/plain": [
              "                   Item_Identifier\n",
              "Outlet_Identifier                 \n",
              "OUT010                         555\n",
              "OUT013                         932\n",
              "OUT017                         926\n",
              "OUT018                         928\n",
              "OUT019                         528\n",
              "OUT027                         935\n",
              "OUT035                         930\n",
              "OUT045                         929\n",
              "OUT046                         930\n",
              "OUT049                         930"
            ]
          },
          "metadata": {},
          "execution_count": 249
        }
      ]
    },
    {
      "cell_type": "code",
      "metadata": {
        "colab": {
          "base_uri": "https://localhost:8080/",
          "height": 700
        },
        "id": "YYOVB8Rqp8Zp",
        "outputId": "b0335de9-5974-4894-e3da-946959f79cdb"
      },
      "source": [
        "#Fat content in items by store\n",
        "sales_df.groupby(['Outlet_Identifier','Item_Fat_Content',])[['Item_Identifier']].count()"
      ],
      "execution_count": 250,
      "outputs": [
        {
          "output_type": "execute_result",
          "data": {
            "text/html": [
              "<div>\n",
              "<style scoped>\n",
              "    .dataframe tbody tr th:only-of-type {\n",
              "        vertical-align: middle;\n",
              "    }\n",
              "\n",
              "    .dataframe tbody tr th {\n",
              "        vertical-align: top;\n",
              "    }\n",
              "\n",
              "    .dataframe thead th {\n",
              "        text-align: right;\n",
              "    }\n",
              "</style>\n",
              "<table border=\"1\" class=\"dataframe\">\n",
              "  <thead>\n",
              "    <tr style=\"text-align: right;\">\n",
              "      <th></th>\n",
              "      <th></th>\n",
              "      <th>Item_Identifier</th>\n",
              "    </tr>\n",
              "    <tr>\n",
              "      <th>Outlet_Identifier</th>\n",
              "      <th>Item_Fat_Content</th>\n",
              "      <th></th>\n",
              "    </tr>\n",
              "  </thead>\n",
              "  <tbody>\n",
              "    <tr>\n",
              "      <th rowspan=\"2\" valign=\"top\">OUT010</th>\n",
              "      <th>Low Fat</th>\n",
              "      <td>359</td>\n",
              "    </tr>\n",
              "    <tr>\n",
              "      <th>Regular</th>\n",
              "      <td>196</td>\n",
              "    </tr>\n",
              "    <tr>\n",
              "      <th rowspan=\"2\" valign=\"top\">OUT013</th>\n",
              "      <th>Low Fat</th>\n",
              "      <td>606</td>\n",
              "    </tr>\n",
              "    <tr>\n",
              "      <th>Regular</th>\n",
              "      <td>326</td>\n",
              "    </tr>\n",
              "    <tr>\n",
              "      <th rowspan=\"2\" valign=\"top\">OUT017</th>\n",
              "      <th>Low Fat</th>\n",
              "      <td>594</td>\n",
              "    </tr>\n",
              "    <tr>\n",
              "      <th>Regular</th>\n",
              "      <td>332</td>\n",
              "    </tr>\n",
              "    <tr>\n",
              "      <th rowspan=\"2\" valign=\"top\">OUT018</th>\n",
              "      <th>Low Fat</th>\n",
              "      <td>598</td>\n",
              "    </tr>\n",
              "    <tr>\n",
              "      <th>Regular</th>\n",
              "      <td>330</td>\n",
              "    </tr>\n",
              "    <tr>\n",
              "      <th rowspan=\"2\" valign=\"top\">OUT019</th>\n",
              "      <th>Low Fat</th>\n",
              "      <td>346</td>\n",
              "    </tr>\n",
              "    <tr>\n",
              "      <th>Regular</th>\n",
              "      <td>182</td>\n",
              "    </tr>\n",
              "    <tr>\n",
              "      <th rowspan=\"2\" valign=\"top\">OUT027</th>\n",
              "      <th>Low Fat</th>\n",
              "      <td>605</td>\n",
              "    </tr>\n",
              "    <tr>\n",
              "      <th>Regular</th>\n",
              "      <td>330</td>\n",
              "    </tr>\n",
              "    <tr>\n",
              "      <th rowspan=\"2\" valign=\"top\">OUT035</th>\n",
              "      <th>Low Fat</th>\n",
              "      <td>606</td>\n",
              "    </tr>\n",
              "    <tr>\n",
              "      <th>Regular</th>\n",
              "      <td>324</td>\n",
              "    </tr>\n",
              "    <tr>\n",
              "      <th rowspan=\"2\" valign=\"top\">OUT045</th>\n",
              "      <th>Low Fat</th>\n",
              "      <td>609</td>\n",
              "    </tr>\n",
              "    <tr>\n",
              "      <th>Regular</th>\n",
              "      <td>320</td>\n",
              "    </tr>\n",
              "    <tr>\n",
              "      <th rowspan=\"2\" valign=\"top\">OUT046</th>\n",
              "      <th>Low Fat</th>\n",
              "      <td>598</td>\n",
              "    </tr>\n",
              "    <tr>\n",
              "      <th>Regular</th>\n",
              "      <td>332</td>\n",
              "    </tr>\n",
              "    <tr>\n",
              "      <th rowspan=\"2\" valign=\"top\">OUT049</th>\n",
              "      <th>Low Fat</th>\n",
              "      <td>596</td>\n",
              "    </tr>\n",
              "    <tr>\n",
              "      <th>Regular</th>\n",
              "      <td>334</td>\n",
              "    </tr>\n",
              "  </tbody>\n",
              "</table>\n",
              "</div>"
            ],
            "text/plain": [
              "                                    Item_Identifier\n",
              "Outlet_Identifier Item_Fat_Content                 \n",
              "OUT010            Low Fat                       359\n",
              "                  Regular                       196\n",
              "OUT013            Low Fat                       606\n",
              "                  Regular                       326\n",
              "OUT017            Low Fat                       594\n",
              "                  Regular                       332\n",
              "OUT018            Low Fat                       598\n",
              "                  Regular                       330\n",
              "OUT019            Low Fat                       346\n",
              "                  Regular                       182\n",
              "OUT027            Low Fat                       605\n",
              "                  Regular                       330\n",
              "OUT035            Low Fat                       606\n",
              "                  Regular                       324\n",
              "OUT045            Low Fat                       609\n",
              "                  Regular                       320\n",
              "OUT046            Low Fat                       598\n",
              "                  Regular                       332\n",
              "OUT049            Low Fat                       596\n",
              "                  Regular                       334"
            ]
          },
          "metadata": {},
          "execution_count": 250
        }
      ]
    },
    {
      "cell_type": "code",
      "metadata": {
        "colab": {
          "base_uri": "https://localhost:8080/",
          "height": 304
        },
        "id": "Dg16chHYzkbX",
        "outputId": "e5051bf3-f6b9-4d75-887a-f79b161f2d89"
      },
      "source": [
        "#Avg sales based on outlet\n",
        "\n",
        "sales_df.groupby(['Outlet_Identifier'])[['Item_Outlet_Sales']].mean().plot(kind = 'bar', legend = False);"
      ],
      "execution_count": 251,
      "outputs": [
        {
          "output_type": "display_data",
          "data": {
            "image/png": "[encoded data removed]",
            "text/plain": [
              "<Figure size 432x288 with 1 Axes>"
            ]
          },
          "metadata": {}
        }
      ]
    },
    {
      "cell_type": "code",
      "metadata": {
        "colab": {
          "base_uri": "https://localhost:8080/",
          "height": 321
        },
        "id": "AI31htV27rsO",
        "outputId": "5820a881-15aa-4a4c-c560-a36b7dd5ff0f"
      },
      "source": [
        "corr = sales_df.corr()\n",
        "sns.heatmap(corr, cmap = 'Blues', annot = True)\n",
        "plt.xticks(rotation = 45)\n",
        "plt.yticks(rotation = 45);"
      ],
      "execution_count": 252,
      "outputs": [
        {
          "output_type": "display_data",
          "data": {
            "image/png": "[encoded data removed]",
            "text/plain": [
              "<Figure size 432x288 with 2 Axes>"
            ]
          },
          "metadata": {}
        }
      ]
    },
    {
      "cell_type": "code",
      "metadata": {
        "colab": {
          "base_uri": "https://localhost:8080/",
          "height": 276
        },
        "id": "vgYKpCN29ZPt",
        "outputId": "fed0c769-f7af-4e4b-a275-ea865ca57d89"
      },
      "source": [
        "sns.histplot(data=sales_df['Item_MRP'], bins = 50);"
      ],
      "execution_count": 253,
      "outputs": [
        {
          "output_type": "display_data",
          "data": {
            "image/png": "[encoded data removed]",
            "text/plain": [
              "<Figure size 432x288 with 1 Axes>"
            ]
          },
          "metadata": {}
        }
      ]
    },
    {
      "cell_type": "code",
      "metadata": {
        "colab": {
          "base_uri": "https://localhost:8080/",
          "height": 609
        },
        "id": "vqy_HEKxK9N1",
        "outputId": "74c37142-534d-4802-d55b-75e7fc79b8c8"
      },
      "source": [
        "import warnings\n",
        "warnings.filterwarnings(\"ignore\", category=np.VisibleDeprecationWarning)\n",
        "\n",
        "sales_df.boxplot(column = ['Item_Outlet_Sales'], by='Outlet_Identifier', notch = True, patch_artist = True)\n",
        "plt.suptitle('')\n",
        "plt.xticks(rotation = 45)\n",
        "\n",
        "sales_df.boxplot(column = ['Item_MRP'], by='Outlet_Identifier', notch = True, patch_artist = True)\n",
        "plt.suptitle('')\n",
        "plt.xticks(rotation = 45);"
      ],
      "execution_count": 254,
      "outputs": [
        {
          "output_type": "display_data",
          "data": {
            "image/png": "[encoded data removed]",
            "text/plain": [
              "<Figure size 432x288 with 1 Axes>"
            ]
          },
          "metadata": {}
        },
        {
          "output_type": "display_data",
          "data": {
            "image/png": "[encoded data removed]",
            "text/plain": [
              "<Figure size 432x288 with 1 Axes>"
            ]
          },
          "metadata": {}
        }
      ]
    },
    {
      "cell_type": "code",
      "metadata": {
        "id": "MTYNUGLC05C_",
        "colab": {
          "base_uri": "https://localhost:8080/",
          "height": 589
        },
        "outputId": "f5bbc3e6-7bfa-4ee4-d0d8-9c9375ea2d6d"
      },
      "source": [
        "plt.style.use('seaborn-dark')\n",
        "colors = ['Blue', 'Orange']\n",
        "\n",
        "sales_df.groupby(['Item_Type'])[['Item_MRP']].mean().plot(kind = \"barh\", legend = False, color = 'blue')\n",
        "plt.grid(axis = 'x', c = 'grey', linewidth = 1)\n",
        "plt.title('Average Retail Price by Category', fontsize = 20)\n",
        "plt.ylabel('Item Category', fontsize = 15)\n",
        "plt.xlabel('MRP', fontsize = 15)\n",
        "plt.xlim(0,160)\n",
        "plt.xticks(fontsize = 13)\n",
        "plt.yticks(fontsize = 13);\n",
        "\n",
        "sales_df.groupby(['Item_Type'])[['Item_Outlet_Sales']].mean().plot(kind = 'barh', legend = False, color = 'orange')\n",
        "plt.grid(axis = 'x', c = 'grey', linewidth = 1)\n",
        "plt.title('Average Sales by Category', fontsize = 20)\n",
        "plt.ylabel('Item Category', fontsize = 15)\n",
        "plt.xlabel('Average Sales', fontsize = 15)\n",
        "plt.xlim(0,2500)\n",
        "plt.xticks(fontsize = 13)\n",
        "plt.yticks(fontsize = 13);"
      ],
      "execution_count": 255,
      "outputs": [
        {
          "output_type": "display_data",
          "data": {
            "image/png": "[encoded data removed]",
            "text/plain": [
              "<Figure size 432x288 with 1 Axes>"
            ]
          },
          "metadata": {}
        },
        {
          "output_type": "display_data",
          "data": {
            "image/png": "[encoded data removed]",
            "text/plain": [
              "<Figure size 432x288 with 1 Axes>"
            ]
          },
          "metadata": {}
        }
      ]
    },
    {
      "cell_type": "code",
      "metadata": {
        "colab": {
          "base_uri": "https://localhost:8080/",
          "height": 589
        },
        "id": "al22vETXuMBS",
        "outputId": "ab9231ce-77c2-4c6c-b35f-ee3a4a806073"
      },
      "source": [
        "plt.style.use('seaborn-dark')\n",
        "\n",
        "sales_df[outlet10].groupby(['Item_Type'])[['Item_MRP']].count().plot(kind = \"barh\", legend = False)\n",
        "plt.grid(axis = 'x', c = 'grey', linewidth = 1)\n",
        "plt.title('Outlet 010 Items Carried by Category', fontsize = 20)\n",
        "plt.ylabel('Item Category', fontsize = 15)\n",
        "plt.xlabel('Count', fontsize = 15)\n",
        "plt.xticks(fontsize = 13)\n",
        "plt.yticks(fontsize = 13);\n",
        "\n",
        "sales_df[outlet13].groupby(['Item_Type'])[['Item_MRP']].count().plot(kind = \"barh\", legend = False)\n",
        "plt.grid(axis = 'x', c = 'grey', linewidth = 1)\n",
        "plt.title('Outlet 013 Items Carried by Category', fontsize = 20)\n",
        "plt.ylabel('Item Category', fontsize = 15)\n",
        "plt.xlabel('Count', fontsize = 15)\n",
        "plt.xticks(fontsize = 13)\n",
        "plt.yticks(fontsize = 13);\n",
        "\n",
        "#repeatable for all 10 Outlets"
      ],
      "execution_count": 256,
      "outputs": [
        {
          "output_type": "display_data",
          "data": {
            "image/png": "[encoded data removed]",
            "text/plain": [
              "<Figure size 432x288 with 1 Axes>"
            ]
          },
          "metadata": {}
        },
        {
          "output_type": "display_data",
          "data": {
            "image/png": "[encoded data removed]",
            "text/plain": [
              "<Figure size 432x288 with 1 Axes>"
            ]
          },
          "metadata": {}
        }
      ]
    },
    {
      "cell_type": "code",
      "metadata": {
        "colab": {
          "base_uri": "https://localhost:8080/",
          "height": 204
        },
        "id": "CJCLLI9hWSrV",
        "outputId": "61cd3bd3-e490-4c2a-bdd7-e273f82c5fa7"
      },
      "source": [
        "size = {'Small': 0, 'Medium': 1, 'High':2}\n",
        "sales_df['Outlet_Size'] = sales_df['Outlet_Size'].map(size)\n",
        "sales_df.head()"
      ],
      "execution_count": 257,
      "outputs": [
        {
          "output_type": "execute_result",
          "data": {
            "text/html": [
              "<div>\n",
              "<style scoped>\n",
              "    .dataframe tbody tr th:only-of-type {\n",
              "        vertical-align: middle;\n",
              "    }\n",
              "\n",
              "    .dataframe tbody tr th {\n",
              "        vertical-align: top;\n",
              "    }\n",
              "\n",
              "    .dataframe thead th {\n",
              "        text-align: right;\n",
              "    }\n",
              "</style>\n",
              "<table border=\"1\" class=\"dataframe\">\n",
              "  <thead>\n",
              "    <tr style=\"text-align: right;\">\n",
              "      <th></th>\n",
              "      <th>Item_Identifier</th>\n",
              "      <th>Item_Weight</th>\n",
              "      <th>Item_Fat_Content</th>\n",
              "      <th>Item_Visibility</th>\n",
              "      <th>Item_Type</th>\n",
              "      <th>Item_MRP</th>\n",
              "      <th>Outlet_Identifier</th>\n",
              "      <th>Outlet_Size</th>\n",
              "      <th>Outlet_Location_Type</th>\n",
              "      <th>Outlet_Type</th>\n",
              "      <th>Item_Outlet_Sales</th>\n",
              "    </tr>\n",
              "  </thead>\n",
              "  <tbody>\n",
              "    <tr>\n",
              "      <th>0</th>\n",
              "      <td>FDA15</td>\n",
              "      <td>9.30</td>\n",
              "      <td>Low Fat</td>\n",
              "      <td>0.016047</td>\n",
              "      <td>Dairy</td>\n",
              "      <td>249.8092</td>\n",
              "      <td>OUT049</td>\n",
              "      <td>1</td>\n",
              "      <td>Tier 1</td>\n",
              "      <td>Supermarket Type1</td>\n",
              "      <td>3735.1380</td>\n",
              "    </tr>\n",
              "    <tr>\n",
              "      <th>1</th>\n",
              "      <td>DRC01</td>\n",
              "      <td>5.92</td>\n",
              "      <td>Regular</td>\n",
              "      <td>0.019278</td>\n",
              "      <td>Soft Drinks</td>\n",
              "      <td>48.2692</td>\n",
              "      <td>OUT018</td>\n",
              "      <td>1</td>\n",
              "      <td>Tier 3</td>\n",
              "      <td>Supermarket Type2</td>\n",
              "      <td>443.4228</td>\n",
              "    </tr>\n",
              "    <tr>\n",
              "      <th>2</th>\n",
              "      <td>FDN15</td>\n",
              "      <td>17.50</td>\n",
              "      <td>Low Fat</td>\n",
              "      <td>0.016760</td>\n",
              "      <td>Meat</td>\n",
              "      <td>141.6180</td>\n",
              "      <td>OUT049</td>\n",
              "      <td>1</td>\n",
              "      <td>Tier 1</td>\n",
              "      <td>Supermarket Type1</td>\n",
              "      <td>2097.2700</td>\n",
              "    </tr>\n",
              "    <tr>\n",
              "      <th>3</th>\n",
              "      <td>FDX07</td>\n",
              "      <td>19.20</td>\n",
              "      <td>Regular</td>\n",
              "      <td>0.000000</td>\n",
              "      <td>Fruits and Vegetables</td>\n",
              "      <td>182.0950</td>\n",
              "      <td>OUT010</td>\n",
              "      <td>1</td>\n",
              "      <td>Tier 3</td>\n",
              "      <td>Grocery Store</td>\n",
              "      <td>732.3800</td>\n",
              "    </tr>\n",
              "    <tr>\n",
              "      <th>4</th>\n",
              "      <td>NCD19</td>\n",
              "      <td>8.93</td>\n",
              "      <td>Low Fat</td>\n",
              "      <td>0.000000</td>\n",
              "      <td>Household</td>\n",
              "      <td>53.8614</td>\n",
              "      <td>OUT013</td>\n",
              "      <td>2</td>\n",
              "      <td>Tier 3</td>\n",
              "      <td>Supermarket Type1</td>\n",
              "      <td>994.7052</td>\n",
              "    </tr>\n",
              "  </tbody>\n",
              "</table>\n",
              "</div>"
            ],
            "text/plain": [
              "  Item_Identifier  Item_Weight  ...        Outlet_Type  Item_Outlet_Sales\n",
              "0           FDA15         9.30  ...  Supermarket Type1          3735.1380\n",
              "1           DRC01         5.92  ...  Supermarket Type2           443.4228\n",
              "2           FDN15        17.50  ...  Supermarket Type1          2097.2700\n",
              "3           FDX07        19.20  ...      Grocery Store           732.3800\n",
              "4           NCD19         8.93  ...  Supermarket Type1           994.7052\n",
              "\n",
              "[5 rows x 11 columns]"
            ]
          },
          "metadata": {},
          "execution_count": 257
        }
      ]
    },
    {
      "cell_type": "code",
      "metadata": {
        "colab": {
          "base_uri": "https://localhost:8080/",
          "height": 258
        },
        "id": "APypsI4CXAyC",
        "outputId": "1e64acc8-c313-4424-fae1-bfaaef2db925"
      },
      "source": [
        "df = pd.get_dummies(sales_df, prefix=\"\", prefix_sep= \"\", columns= ['Item_Fat_Content', 'Outlet_Location_Type', 'Outlet_Type','Item_Type'], drop_first= True)\n",
        "df.head()"
      ],
      "execution_count": 258,
      "outputs": [
        {
          "output_type": "execute_result",
          "data": {
            "text/html": [
              "<div>\n",
              "<style scoped>\n",
              "    .dataframe tbody tr th:only-of-type {\n",
              "        vertical-align: middle;\n",
              "    }\n",
              "\n",
              "    .dataframe tbody tr th {\n",
              "        vertical-align: top;\n",
              "    }\n",
              "\n",
              "    .dataframe thead th {\n",
              "        text-align: right;\n",
              "    }\n",
              "</style>\n",
              "<table border=\"1\" class=\"dataframe\">\n",
              "  <thead>\n",
              "    <tr style=\"text-align: right;\">\n",
              "      <th></th>\n",
              "      <th>Item_Identifier</th>\n",
              "      <th>Item_Weight</th>\n",
              "      <th>Item_Visibility</th>\n",
              "      <th>Item_MRP</th>\n",
              "      <th>Outlet_Identifier</th>\n",
              "      <th>Outlet_Size</th>\n",
              "      <th>Item_Outlet_Sales</th>\n",
              "      <th>Regular</th>\n",
              "      <th>Tier 2</th>\n",
              "      <th>Tier 3</th>\n",
              "      <th>Supermarket Type1</th>\n",
              "      <th>Supermarket Type2</th>\n",
              "      <th>Supermarket Type3</th>\n",
              "      <th>Breads</th>\n",
              "      <th>Breakfast</th>\n",
              "      <th>Canned</th>\n",
              "      <th>Dairy</th>\n",
              "      <th>Frozen Foods</th>\n",
              "      <th>Fruits and Vegetables</th>\n",
              "      <th>Hard Drinks</th>\n",
              "      <th>Health and Hygiene</th>\n",
              "      <th>Household</th>\n",
              "      <th>Meat</th>\n",
              "      <th>Others</th>\n",
              "      <th>Seafood</th>\n",
              "      <th>Snack Foods</th>\n",
              "      <th>Soft Drinks</th>\n",
              "      <th>Starchy Foods</th>\n",
              "    </tr>\n",
              "  </thead>\n",
              "  <tbody>\n",
              "    <tr>\n",
              "      <th>0</th>\n",
              "      <td>FDA15</td>\n",
              "      <td>9.30</td>\n",
              "      <td>0.016047</td>\n",
              "      <td>249.8092</td>\n",
              "      <td>OUT049</td>\n",
              "      <td>1</td>\n",
              "      <td>3735.1380</td>\n",
              "      <td>0</td>\n",
              "      <td>0</td>\n",
              "      <td>0</td>\n",
              "      <td>1</td>\n",
              "      <td>0</td>\n",
              "      <td>0</td>\n",
              "      <td>0</td>\n",
              "      <td>0</td>\n",
              "      <td>0</td>\n",
              "      <td>1</td>\n",
              "      <td>0</td>\n",
              "      <td>0</td>\n",
              "      <td>0</td>\n",
              "      <td>0</td>\n",
              "      <td>0</td>\n",
              "      <td>0</td>\n",
              "      <td>0</td>\n",
              "      <td>0</td>\n",
              "      <td>0</td>\n",
              "      <td>0</td>\n",
              "      <td>0</td>\n",
              "    </tr>\n",
              "    <tr>\n",
              "      <th>1</th>\n",
              "      <td>DRC01</td>\n",
              "      <td>5.92</td>\n",
              "      <td>0.019278</td>\n",
              "      <td>48.2692</td>\n",
              "      <td>OUT018</td>\n",
              "      <td>1</td>\n",
              "      <td>443.4228</td>\n",
              "      <td>1</td>\n",
              "      <td>0</td>\n",
              "      <td>1</td>\n",
              "      <td>0</td>\n",
              "      <td>1</td>\n",
              "      <td>0</td>\n",
              "      <td>0</td>\n",
              "      <td>0</td>\n",
              "      <td>0</td>\n",
              "      <td>0</td>\n",
              "      <td>0</td>\n",
              "      <td>0</td>\n",
              "      <td>0</td>\n",
              "      <td>0</td>\n",
              "      <td>0</td>\n",
              "      <td>0</td>\n",
              "      <td>0</td>\n",
              "      <td>0</td>\n",
              "      <td>0</td>\n",
              "      <td>1</td>\n",
              "      <td>0</td>\n",
              "    </tr>\n",
              "    <tr>\n",
              "      <th>2</th>\n",
              "      <td>FDN15</td>\n",
              "      <td>17.50</td>\n",
              "      <td>0.016760</td>\n",
              "      <td>141.6180</td>\n",
              "      <td>OUT049</td>\n",
              "      <td>1</td>\n",
              "      <td>2097.2700</td>\n",
              "      <td>0</td>\n",
              "      <td>0</td>\n",
              "      <td>0</td>\n",
              "      <td>1</td>\n",
              "      <td>0</td>\n",
              "      <td>0</td>\n",
              "      <td>0</td>\n",
              "      <td>0</td>\n",
              "      <td>0</td>\n",
              "      <td>0</td>\n",
              "      <td>0</td>\n",
              "      <td>0</td>\n",
              "      <td>0</td>\n",
              "      <td>0</td>\n",
              "      <td>0</td>\n",
              "      <td>1</td>\n",
              "      <td>0</td>\n",
              "      <td>0</td>\n",
              "      <td>0</td>\n",
              "      <td>0</td>\n",
              "      <td>0</td>\n",
              "    </tr>\n",
              "    <tr>\n",
              "      <th>3</th>\n",
              "      <td>FDX07</td>\n",
              "      <td>19.20</td>\n",
              "      <td>0.000000</td>\n",
              "      <td>182.0950</td>\n",
              "      <td>OUT010</td>\n",
              "      <td>1</td>\n",
              "      <td>732.3800</td>\n",
              "      <td>1</td>\n",
              "      <td>0</td>\n",
              "      <td>1</td>\n",
              "      <td>0</td>\n",
              "      <td>0</td>\n",
              "      <td>0</td>\n",
              "      <td>0</td>\n",
              "      <td>0</td>\n",
              "      <td>0</td>\n",
              "      <td>0</td>\n",
              "      <td>0</td>\n",
              "      <td>1</td>\n",
              "      <td>0</td>\n",
              "      <td>0</td>\n",
              "      <td>0</td>\n",
              "      <td>0</td>\n",
              "      <td>0</td>\n",
              "      <td>0</td>\n",
              "      <td>0</td>\n",
              "      <td>0</td>\n",
              "      <td>0</td>\n",
              "    </tr>\n",
              "    <tr>\n",
              "      <th>4</th>\n",
              "      <td>NCD19</td>\n",
              "      <td>8.93</td>\n",
              "      <td>0.000000</td>\n",
              "      <td>53.8614</td>\n",
              "      <td>OUT013</td>\n",
              "      <td>2</td>\n",
              "      <td>994.7052</td>\n",
              "      <td>0</td>\n",
              "      <td>0</td>\n",
              "      <td>1</td>\n",
              "      <td>1</td>\n",
              "      <td>0</td>\n",
              "      <td>0</td>\n",
              "      <td>0</td>\n",
              "      <td>0</td>\n",
              "      <td>0</td>\n",
              "      <td>0</td>\n",
              "      <td>0</td>\n",
              "      <td>0</td>\n",
              "      <td>0</td>\n",
              "      <td>0</td>\n",
              "      <td>1</td>\n",
              "      <td>0</td>\n",
              "      <td>0</td>\n",
              "      <td>0</td>\n",
              "      <td>0</td>\n",
              "      <td>0</td>\n",
              "      <td>0</td>\n",
              "    </tr>\n",
              "  </tbody>\n",
              "</table>\n",
              "</div>"
            ],
            "text/plain": [
              "  Item_Identifier  Item_Weight  ...  Soft Drinks  Starchy Foods\n",
              "0           FDA15         9.30  ...            0              0\n",
              "1           DRC01         5.92  ...            1              0\n",
              "2           FDN15        17.50  ...            0              0\n",
              "3           FDX07        19.20  ...            0              0\n",
              "4           NCD19         8.93  ...            0              0\n",
              "\n",
              "[5 rows x 28 columns]"
            ]
          },
          "metadata": {},
          "execution_count": 258
        }
      ]
    },
    {
      "cell_type": "code",
      "metadata": {
        "colab": {
          "base_uri": "https://localhost:8080/"
        },
        "id": "e6Fj5S3odwo3",
        "outputId": "15d96682-5094-4bdd-916d-16af16622266"
      },
      "source": [
        "df = df.drop(columns= ['Item_Identifier', 'Outlet_Identifier'])\n",
        "df.info()"
      ],
      "execution_count": 259,
      "outputs": [
        {
          "output_type": "stream",
          "text": [
            "<class 'pandas.core.frame.DataFrame'>\n",
            "RangeIndex: 8523 entries, 0 to 8522\n",
            "Data columns (total 26 columns):\n",
            " #   Column                 Non-Null Count  Dtype  \n",
            "---  ------                 --------------  -----  \n",
            " 0   Item_Weight            8523 non-null   float64\n",
            " 1   Item_Visibility        8523 non-null   float64\n",
            " 2   Item_MRP               8523 non-null   float64\n",
            " 3   Outlet_Size            8523 non-null   int64  \n",
            " 4   Item_Outlet_Sales      8523 non-null   float64\n",
            " 5   Regular                8523 non-null   uint8  \n",
            " 6   Tier 2                 8523 non-null   uint8  \n",
            " 7   Tier 3                 8523 non-null   uint8  \n",
            " 8   Supermarket Type1      8523 non-null   uint8  \n",
            " 9   Supermarket Type2      8523 non-null   uint8  \n",
            " 10  Supermarket Type3      8523 non-null   uint8  \n",
            " 11  Breads                 8523 non-null   uint8  \n",
            " 12  Breakfast              8523 non-null   uint8  \n",
            " 13  Canned                 8523 non-null   uint8  \n",
            " 14  Dairy                  8523 non-null   uint8  \n",
            " 15  Frozen Foods           8523 non-null   uint8  \n",
            " 16  Fruits and Vegetables  8523 non-null   uint8  \n",
            " 17  Hard Drinks            8523 non-null   uint8  \n",
            " 18  Health and Hygiene     8523 non-null   uint8  \n",
            " 19  Household              8523 non-null   uint8  \n",
            " 20  Meat                   8523 non-null   uint8  \n",
            " 21  Others                 8523 non-null   uint8  \n",
            " 22  Seafood                8523 non-null   uint8  \n",
            " 23  Snack Foods            8523 non-null   uint8  \n",
            " 24  Soft Drinks            8523 non-null   uint8  \n",
            " 25  Starchy Foods          8523 non-null   uint8  \n",
            "dtypes: float64(4), int64(1), uint8(21)\n",
            "memory usage: 507.8 KB\n"
          ],
          "name": "stdout"
        }
      ]
    },
    {
      "cell_type": "code",
      "metadata": {
        "colab": {
          "base_uri": "https://localhost:8080/"
        },
        "id": "Dtx8p1Zbd31F",
        "outputId": "e326c344-54a6-4bc3-ecd7-e67beb7569d8"
      },
      "source": [
        "from sklearn.metrics import r2_score\n",
        "from sklearn.metrics import mean_squared_error\n",
        "from sklearn.linear_model import LinearRegression\n",
        "from sklearn.model_selection import train_test_split\n",
        "\n",
        "y = df['Item_Outlet_Sales']\n",
        "X = df.drop(columns= 'Item_Outlet_Sales')\n",
        "\n",
        "X.shape"
      ],
      "execution_count": 260,
      "outputs": [
        {
          "output_type": "execute_result",
          "data": {
            "text/plain": [
              "(8523, 25)"
            ]
          },
          "metadata": {},
          "execution_count": 260
        }
      ]
    },
    {
      "cell_type": "code",
      "metadata": {
        "colab": {
          "base_uri": "https://localhost:8080/"
        },
        "id": "AlaKWBhXeaz7",
        "outputId": "b215f222-93e8-4fd3-b250-a8a5cf002249"
      },
      "source": [
        "X_train, X_test, y_train, y_test = train_test_split(X, y, random_state = 42)\n",
        "\n",
        "print(len(X_train))\n",
        "print(len(X_test))"
      ],
      "execution_count": 261,
      "outputs": [
        {
          "output_type": "stream",
          "text": [
            "6392\n",
            "2131\n"
          ],
          "name": "stdout"
        }
      ]
    },
    {
      "cell_type": "code",
      "metadata": {
        "id": "bOnaWM8vem_A"
      },
      "source": [
        "reg = LinearRegression()\n",
        "reg.fit(X_train,y_train);\n",
        "train_preds = reg.predict(X_train)\n",
        "test_preds = reg.predict(X_test)"
      ],
      "execution_count": 262,
      "outputs": []
    },
    {
      "cell_type": "code",
      "metadata": {
        "colab": {
          "base_uri": "https://localhost:8080/"
        },
        "id": "FBLexFqBe7rD",
        "outputId": "1d7f706b-bbcf-424c-d04c-fd3987241dd9"
      },
      "source": [
        "print(r2_score(y_train, train_preds))\n",
        "print(r2_score(y_test, test_preds))"
      ],
      "execution_count": 263,
      "outputs": [
        {
          "output_type": "stream",
          "text": [
            "0.5605749802725675\n",
            "0.5658444983719836\n"
          ],
          "name": "stdout"
        }
      ]
    },
    {
      "cell_type": "code",
      "metadata": {
        "colab": {
          "base_uri": "https://localhost:8080/"
        },
        "id": "IAhd-C4Ye8dv",
        "outputId": "97a8d07e-9aa7-4513-e6fa-c45fc9c00042"
      },
      "source": [
        "print(np.sqrt(mean_squared_error(y_train, train_preds)))\n",
        "print(np.sqrt(mean_squared_error(y_test, test_preds)))"
      ],
      "execution_count": 264,
      "outputs": [
        {
          "output_type": "stream",
          "text": [
            "1140.3766401255534\n",
            "1094.4519945470438\n"
          ],
          "name": "stdout"
        }
      ]
    },
    {
      "cell_type": "code",
      "metadata": {
        "colab": {
          "base_uri": "https://localhost:8080/"
        },
        "id": "t-CVOxS2fftW",
        "outputId": "060955d1-6727-4351-ee04-1ad27a261823"
      },
      "source": [
        "importance = reg.coef_\n",
        "for i,v in enumerate(importance):\n",
        "    print('Feature: %0d, Score: %.5f' % (i,v))"
      ],
      "execution_count": 265,
      "outputs": [
        {
          "output_type": "stream",
          "text": [
            "Feature: 0, Score: -1.75031\n",
            "Feature: 1, Score: -423.01024\n",
            "Feature: 2, Score: 15.71658\n",
            "Feature: 3, Score: -17.26948\n",
            "Feature: 4, Score: 63.13478\n",
            "Feature: 5, Score: 6.69973\n",
            "Feature: 6, Score: 36.91005\n",
            "Feature: 7, Score: 1971.29056\n",
            "Feature: 8, Score: 1633.71976\n",
            "Feature: 9, Score: 3341.60634\n",
            "Feature: 10, Score: -29.90273\n",
            "Feature: 11, Score: 47.32322\n",
            "Feature: 12, Score: 25.55395\n",
            "Feature: 13, Score: -105.91731\n",
            "Feature: 14, Score: -2.51147\n",
            "Feature: 15, Score: 43.67526\n",
            "Feature: 16, Score: 10.50856\n",
            "Feature: 17, Score: 26.37904\n",
            "Feature: 18, Score: 3.13823\n",
            "Feature: 19, Score: -9.78149\n",
            "Feature: 20, Score: -31.82296\n",
            "Feature: 21, Score: 318.05031\n",
            "Feature: 22, Score: -20.67590\n",
            "Feature: 23, Score: -42.14247\n",
            "Feature: 24, Score: 45.11607\n"
          ],
          "name": "stdout"
        }
      ]
    },
    {
      "cell_type": "code",
      "metadata": {
        "colab": {
          "base_uri": "https://localhost:8080/",
          "height": 264
        },
        "id": "inOYFA9fl-fH",
        "outputId": "38123246-3b50-429f-aaf0-a017b9c9ad98"
      },
      "source": [
        "plt.bar([x for x in range(len(importance))], importance)\n",
        "plt.show()"
      ],
      "execution_count": 266,
      "outputs": [
        {
          "output_type": "display_data",
          "data": {
            "image/png": "[encoded data removed]",
            "text/plain": [
              "<Figure size 432x288 with 1 Axes>"
            ]
          },
          "metadata": {}
        }
      ]
    },
    {
      "cell_type": "markdown",
      "metadata": {
        "id": "5FxRftFgn8K5"
      },
      "source": [
        "According to this the important features are:\n",
        "\n",
        "Feature 10 (Supermarket Type 1), \n",
        "Feature 12 (Supermarket Type 3), \n",
        "Feature 25 (Seafood), \n",
        "Feature 34 (OUT027), \n",
        "Feature 35 (OUT035), \n",
        "Feature 37 (OUT046), \n",
        "Feature 38 (OUT049)\n",
        "\n",
        "I'm not sure this makes a lot of sense. I would have though Item MRP would have had a significant effect on the predictions. I feel like I'm missing something with this step."
      ]
    },
    {
      "cell_type": "code",
      "metadata": {
        "colab": {
          "base_uri": "https://localhost:8080/",
          "height": 679
        },
        "id": "IRW1bHeaskxn",
        "outputId": "7f45c21e-393a-4fc6-a035-8ca7c3e90eb5"
      },
      "source": [
        "fig, ax = plt.subplots(figsize=(10,10))\n",
        "sns.heatmap(df.corr().sort_values(by = 'Item_Outlet_Sales'), cmap = sns.diverging_palette(240, 10, n=9));"
      ],
      "execution_count": 267,
      "outputs": [
        {
          "output_type": "display_data",
          "data": {
            "image/png": "[encoded data removed]",
            "text/plain": [
              "<Figure size 720x720 with 2 Axes>"
            ]
          },
          "metadata": {}
        }
      ]
    },
    {
      "cell_type": "markdown",
      "metadata": {
        "id": "GobrvZjStv1z"
      },
      "source": [
        "This heatmap show a correlation between OUT027, Supermarket Type 3, and Item MRP with regards to Item Outlet Sales.\n",
        "\n",
        "Testing with fewer features to see if R2 percentage is better."
      ]
    },
    {
      "cell_type": "code",
      "metadata": {
        "colab": {
          "base_uri": "https://localhost:8080/"
        },
        "id": "-b9T5AX5uqmx",
        "outputId": "e87660fe-612c-4c36-e47b-2b821db138b6"
      },
      "source": [
        "X2 = df.loc[:, ['Item_MRP', 'Supermarket Type2', 'Supermarket Type3', 'Supermarket Type1', 'Others']]\n",
        "X2.shape"
      ],
      "execution_count": 268,
      "outputs": [
        {
          "output_type": "execute_result",
          "data": {
            "text/plain": [
              "(8523, 5)"
            ]
          },
          "metadata": {},
          "execution_count": 268
        }
      ]
    },
    {
      "cell_type": "code",
      "metadata": {
        "id": "h0AE-kPxuq3S"
      },
      "source": [
        "X2_train, X2_test, y_train, y_test = train_test_split(X2, y, random_state = 42)"
      ],
      "execution_count": 298,
      "outputs": []
    },
    {
      "cell_type": "code",
      "metadata": {
        "id": "bl9tNs5yurGi"
      },
      "source": [
        "reg = LinearRegression()\n",
        "reg.fit(X2_train,y_train);\n",
        "train_preds = reg.predict(X2_train)\n",
        "test_preds = reg.predict(X2_test)"
      ],
      "execution_count": 299,
      "outputs": []
    },
    {
      "cell_type": "code",
      "metadata": {
        "colab": {
          "base_uri": "https://localhost:8080/"
        },
        "id": "LzTxx08tuw7n",
        "outputId": "212b1715-5711-4eca-d1b9-931d5cb44572"
      },
      "source": [
        "print(r2_score(y_train, train_preds))\n",
        "print(r2_score(y_test, test_preds))"
      ],
      "execution_count": 302,
      "outputs": [
        {
          "output_type": "stream",
          "text": [
            "0.5593373501054837\n",
            "0.5690103425842085\n"
          ],
          "name": "stdout"
        }
      ]
    },
    {
      "cell_type": "code",
      "metadata": {
        "colab": {
          "base_uri": "https://localhost:8080/"
        },
        "id": "_-so-ElJuyp_",
        "outputId": "d360ab8e-aa47-4636-e332-eddde86d2323"
      },
      "source": [
        "print(np.sqrt(mean_squared_error(y_train, train_preds)))\n",
        "print(np.sqrt(mean_squared_error(y_test, test_preds)))"
      ],
      "execution_count": 301,
      "outputs": [
        {
          "output_type": "stream",
          "text": [
            "1141.9814328622494\n",
            "1090.4543438813657\n"
          ],
          "name": "stdout"
        }
      ]
    },
    {
      "cell_type": "markdown",
      "metadata": {
        "id": "PqK7vuivy83J"
      },
      "source": [
        "R2 percentage decreased. RMSE still roughly same difference"
      ]
    },
    {
      "cell_type": "markdown",
      "metadata": {
        "id": "eViyoB0aEeIi"
      },
      "source": [
        "Decision Tree and Forests, based off full features of sales_df"
      ]
    },
    {
      "cell_type": "code",
      "metadata": {
        "id": "TcYYFnIX9a5y"
      },
      "source": [
        "from sklearn.tree import DecisionTreeRegressor\n",
        "from sklearn.ensemble import BaggingRegressor\n",
        "from sklearn.ensemble import RandomForestRegressor\n",
        "\n",
        "dt = DecisionTreeRegressor(random_state = 42)\n",
        "dt.fit(X_train, y_train)\n",
        "dt_train = dt.predict(X_train)\n",
        "dt_pred = dt.predict(X_test)\n",
        "\n",
        "\n",
        "bf = BaggingRegressor(random_state = 42)\n",
        "bf.fit(X_train, y_train)\n",
        "bf_train = bf.predict(X_train)\n",
        "bf_pred = bf.predict(X_test)\n",
        "\n",
        "\n",
        "rf = RandomForestRegressor(random_state = 42)\n",
        "rf.fit(X_train, y_train)\n",
        "rf_train = rf.predict(X_train)\n",
        "rf_pred = rf.predict(X_test)"
      ],
      "execution_count": 273,
      "outputs": []
    },
    {
      "cell_type": "code",
      "metadata": {
        "colab": {
          "base_uri": "https://localhost:8080/"
        },
        "id": "ZnFYyeBF-ycJ",
        "outputId": "929ba559-b2f6-4f81-85cb-1846f0cd348b"
      },
      "source": [
        "print('Decision Tree R2 Train', dt.score(X_train, y_train))\n",
        "print('Decision Tree R2 Test', dt.score(X_test, y_test))"
      ],
      "execution_count": 274,
      "outputs": [
        {
          "output_type": "stream",
          "text": [
            "Decision Tree R2 Train 1.0\n",
            "Decision Tree R2 Test 0.1589019157235314\n"
          ],
          "name": "stdout"
        }
      ]
    },
    {
      "cell_type": "code",
      "metadata": {
        "colab": {
          "base_uri": "https://localhost:8080/"
        },
        "id": "4gIJhVBn_AZL",
        "outputId": "9a885b19-529e-4112-cacf-d0e97d215f72"
      },
      "source": [
        "print('Decision Tree RMSE Train', np.sqrt(mean_squared_error(y_train, dt_train)))\n",
        "print('Decision Tree RMSE Test', np.sqrt(mean_squared_error(y_test, dt_pred)))"
      ],
      "execution_count": 275,
      "outputs": [
        {
          "output_type": "stream",
          "text": [
            "Decision Tree RMSE Train 9.851728209784172e-15\n",
            "Decision Tree RMSE Test 1523.3418891819606\n"
          ],
          "name": "stdout"
        }
      ]
    },
    {
      "cell_type": "code",
      "metadata": {
        "colab": {
          "base_uri": "https://localhost:8080/"
        },
        "id": "PYAsTRWG_Am1",
        "outputId": "61029562-ec83-4af8-e288-dc440a34d541"
      },
      "source": [
        "print('Bagged Forest R2 Train', bf.score(X_train, y_train))\n",
        "print('Bagged Forest R2 Test', bf.score(X_test, y_test))"
      ],
      "execution_count": 276,
      "outputs": [
        {
          "output_type": "stream",
          "text": [
            "Bagged Forest R2 Train 0.917359240001055\n",
            "Bagged Forest R2 Test 0.505894010622139\n"
          ],
          "name": "stdout"
        }
      ]
    },
    {
      "cell_type": "code",
      "metadata": {
        "colab": {
          "base_uri": "https://localhost:8080/"
        },
        "id": "8fBU5jKW_BcS",
        "outputId": "47c26cda-1539-4ce9-ed25-089b2c0d04da"
      },
      "source": [
        "print('Bagged Forest RMSE Train', np.sqrt(mean_squared_error(y_train, bf_train)))\n",
        "print('Bagged Forest RMSE Test', np.sqrt(mean_squared_error(y_test, bf_pred)))"
      ],
      "execution_count": 277,
      "outputs": [
        {
          "output_type": "stream",
          "text": [
            "Bagged Forest RMSE Train 494.54187750410813\n",
            "Bagged Forest RMSE Test 1167.573210750724\n"
          ],
          "name": "stdout"
        }
      ]
    },
    {
      "cell_type": "code",
      "metadata": {
        "colab": {
          "base_uri": "https://localhost:8080/"
        },
        "id": "cQ6zc06T_BsO",
        "outputId": "c57b301e-aae9-469e-f76a-0927656e54a4"
      },
      "source": [
        "print('Random Forest R2 Train', rf.score(X_train, y_train))\n",
        "print('Random Forest R2 Test', rf.score(X_test, y_test))"
      ],
      "execution_count": 278,
      "outputs": [
        {
          "output_type": "stream",
          "text": [
            "Random Forest R2 Train 0.935714133386463\n",
            "Random Forest R2 Test 0.5362021231086785\n"
          ],
          "name": "stdout"
        }
      ]
    },
    {
      "cell_type": "code",
      "metadata": {
        "colab": {
          "base_uri": "https://localhost:8080/"
        },
        "id": "5YnZ8o4s_CUD",
        "outputId": "b9954420-7f15-4e86-ddbf-e8a25f34cf0a"
      },
      "source": [
        "print('Random Forest RMSE Train', np.sqrt(mean_squared_error(y_train, rf_train)))\n",
        "print('Random Forest RMSE Test', np.sqrt(mean_squared_error(y_test, rf_pred)))"
      ],
      "execution_count": 279,
      "outputs": [
        {
          "output_type": "stream",
          "text": [
            "Random Forest RMSE Train 436.1779163023563\n",
            "Random Forest RMSE Test 1131.1975108159065\n"
          ],
          "name": "stdout"
        }
      ]
    },
    {
      "cell_type": "markdown",
      "metadata": {
        "id": "librTp8AEm-X"
      },
      "source": [
        "Needs parameter tuning"
      ]
    },
    {
      "cell_type": "code",
      "metadata": {
        "id": "1tDZ1jkUE8N6"
      },
      "source": [
        "#Determine best depth for decision tree\n",
        "max_depth_range = list(range(2, 34)) \n",
        "\n",
        "r2 = []\n",
        "for depth in max_depth_range:\n",
        "    dt = DecisionTreeRegressor(max_depth = depth, random_state = 42)\n",
        "    dt.fit(X_train, y_train)\n",
        "\n",
        "    score = dt.score(X_test, y_test)\n",
        "    \n",
        "    r2.append(score)"
      ],
      "execution_count": 280,
      "outputs": []
    },
    {
      "cell_type": "code",
      "metadata": {
        "colab": {
          "base_uri": "https://localhost:8080/",
          "height": 277
        },
        "id": "IG4ktunNHh9_",
        "outputId": "4201724a-197e-4f52-8518-4108b2f17409"
      },
      "source": [
        "plt.plot(max_depth_range, r2)\n",
        "plt.grid(axis = 'x')\n",
        "plt.xlabel('max_depth')\n",
        "plt.ylabel('R2');"
      ],
      "execution_count": 281,
      "outputs": [
        {
          "output_type": "display_data",
          "data": {
            "image/png": "[encoded data removed]",
            "text/plain": [
              "<Figure size 432x288 with 1 Axes>"
            ]
          },
          "metadata": {}
        }
      ]
    },
    {
      "cell_type": "code",
      "metadata": {
        "id": "5ZGVtjBZEwyw"
      },
      "source": [
        "dt2 = DecisionTreeRegressor(max_depth = 5, random_state = 42)\n",
        "dt2.fit(X_train, y_train)\n",
        "dt2_train = dt2.predict(X_train)\n",
        "dt2_pred = dt2.predict(X_test)"
      ],
      "execution_count": 282,
      "outputs": []
    },
    {
      "cell_type": "code",
      "metadata": {
        "colab": {
          "base_uri": "https://localhost:8080/"
        },
        "id": "teVT_T5THtMC",
        "outputId": "14d2a3bc-f7c3-44a3-a79c-df2b9333f642"
      },
      "source": [
        "print('Decision Tree R2 Train', dt2.score(X_train, y_train))\n",
        "print('Decision Tree R2 Test', dt2.score(X_test, y_test))"
      ],
      "execution_count": 283,
      "outputs": [
        {
          "output_type": "stream",
          "text": [
            "Decision Tree R2 Train 0.612057803720431\n",
            "Decision Tree R2 Test 0.5856983281382548\n"
          ],
          "name": "stdout"
        }
      ]
    },
    {
      "cell_type": "code",
      "metadata": {
        "colab": {
          "base_uri": "https://localhost:8080/"
        },
        "id": "TV1C4s82HwJW",
        "outputId": "3a094266-0d97-4a1a-9a74-6399aeca56b6"
      },
      "source": [
        "print('Decision Tree RMSE Train', np.sqrt(mean_squared_error(y_train, dt2_train)))\n",
        "print('Decision Tree RMSE Test', np.sqrt(mean_squared_error(y_test, dt2_pred)))"
      ],
      "execution_count": 284,
      "outputs": [
        {
          "output_type": "stream",
          "text": [
            "Decision Tree RMSE Train 1071.4932318060307\n",
            "Decision Tree RMSE Test 1069.1346514667273\n"
          ],
          "name": "stdout"
        }
      ]
    },
    {
      "cell_type": "markdown",
      "metadata": {
        "id": "2mzz5xBNH5uH"
      },
      "source": [
        "Far better results with a max_depth of 5 on the Decision tree.\n",
        "\n",
        "Lets see if we can do better on our Random Forests (better than bagged)"
      ]
    },
    {
      "cell_type": "code",
      "metadata": {
        "id": "D-J_jwJKIIvd"
      },
      "source": [
        "rf2 = RandomForestRegressor(max_depth = 5, random_state = 42)\n",
        "rf2.fit(X_train, y_train)\n",
        "rf2_train = rf2.predict(X_train)\n",
        "rf2_pred = rf2.predict(X_test)"
      ],
      "execution_count": 285,
      "outputs": []
    },
    {
      "cell_type": "code",
      "metadata": {
        "colab": {
          "base_uri": "https://localhost:8080/"
        },
        "id": "iuYoomJBMasL",
        "outputId": "e0e7b445-ee03-47fb-8155-96872e11492f"
      },
      "source": [
        "print('Random Forest R2 Train', rf2.score(X_train, y_train))\n",
        "print('Random Forest R2 Test', rf2.score(X_test, y_test))"
      ],
      "execution_count": 286,
      "outputs": [
        {
          "output_type": "stream",
          "text": [
            "Random Forest R2 Train 0.6198505061130705\n",
            "Random Forest R2 Test 0.6025120328984492\n"
          ],
          "name": "stdout"
        }
      ]
    },
    {
      "cell_type": "code",
      "metadata": {
        "colab": {
          "base_uri": "https://localhost:8080/"
        },
        "id": "mv2-7IobMbPF",
        "outputId": "662ba3f5-fb1e-4e85-eec5-86a588547090"
      },
      "source": [
        "print('Random Forest RMSE Train', np.sqrt(mean_squared_error(y_train, rf2_train)))\n",
        "print('Random Forest RMSE Test', np.sqrt(mean_squared_error(y_test, rf2_pred)))"
      ],
      "execution_count": 287,
      "outputs": [
        {
          "output_type": "stream",
          "text": [
            "Random Forest RMSE Train 1060.676948112175\n",
            "Random Forest RMSE Test 1047.2154856616746\n"
          ],
          "name": "stdout"
        }
      ]
    },
    {
      "cell_type": "markdown",
      "metadata": {
        "id": "3_W0eVjRNgBp"
      },
      "source": [
        "Both Decision Tree Model and Random Forest Model are more effective than the Linear Regression Model, with Random Forest just barely getting a better result than Decision Tree, both with a max depth of 5 as optimal parameters.\n",
        "\n",
        "Now let's try with fewer features"
      ]
    },
    {
      "cell_type": "code",
      "metadata": {
        "colab": {
          "base_uri": "https://localhost:8080/"
        },
        "id": "QS7E_kwbRlXG",
        "outputId": "c3d10295-0165-4e7c-c9a1-532b83c0f6d2"
      },
      "source": [
        "dt.feature_importances_"
      ],
      "execution_count": 288,
      "outputs": [
        {
          "output_type": "execute_result",
          "data": {
            "text/plain": [
              "array([0.04874568, 0.11124084, 0.4632856 , 0.01990578, 0.00672313,\n",
              "       0.00944365, 0.00250002, 0.09517179, 0.06852022, 0.11049108,\n",
              "       0.00455971, 0.00312665, 0.00497124, 0.00494142, 0.00437274,\n",
              "       0.00880193, 0.00273555, 0.00216378, 0.00716299, 0.00252117,\n",
              "       0.00191631, 0.00122566, 0.00858091, 0.00359804, 0.00329412])"
            ]
          },
          "metadata": {},
          "execution_count": 288
        }
      ]
    },
    {
      "cell_type": "code",
      "metadata": {
        "colab": {
          "base_uri": "https://localhost:8080/"
        },
        "id": "6k8jeGUpRsKz",
        "outputId": "a36b7c12-0966-4542-ca7f-b8d54d0d3a75"
      },
      "source": [
        "dt_feature = pd.DataFrame({'Feature_Names': X.columns, 'Importance': dt.feature_importances_})\n",
        "print(dt_feature.sort_values(by = 'Importance', ascending = False))"
      ],
      "execution_count": 304,
      "outputs": [
        {
          "output_type": "stream",
          "text": [
            "            Feature_Names  Importance\n",
            "2                Item_MRP    0.463286\n",
            "1         Item_Visibility    0.111241\n",
            "9       Supermarket Type3    0.110491\n",
            "7       Supermarket Type1    0.095172\n",
            "8       Supermarket Type2    0.068520\n",
            "0             Item_Weight    0.048746\n",
            "3             Outlet_Size    0.019906\n",
            "5                  Tier 2    0.009444\n",
            "15  Fruits and Vegetables    0.008802\n",
            "22            Snack Foods    0.008581\n",
            "18              Household    0.007163\n",
            "4                 Regular    0.006723\n",
            "12                 Canned    0.004971\n",
            "13                  Dairy    0.004941\n",
            "10                 Breads    0.004560\n",
            "14           Frozen Foods    0.004373\n",
            "23            Soft Drinks    0.003598\n",
            "24          Starchy Foods    0.003294\n",
            "11              Breakfast    0.003127\n",
            "16            Hard Drinks    0.002736\n",
            "19                   Meat    0.002521\n",
            "6                  Tier 3    0.002500\n",
            "17     Health and Hygiene    0.002164\n",
            "20                 Others    0.001916\n",
            "21                Seafood    0.001226\n"
          ],
          "name": "stdout"
        }
      ]
    },
    {
      "cell_type": "markdown",
      "metadata": {
        "id": "nJ68RwN1Twk4"
      },
      "source": [
        "Create a new X (X3) based on the top 6 features"
      ]
    },
    {
      "cell_type": "code",
      "metadata": {
        "id": "1Jvx_FykT5Cv"
      },
      "source": [
        "X3 = df.loc[:, ['Item_MRP', 'Item_Visibility', 'Supermarket Type3', 'Supermarket Type2', 'Supermarket Type1', 'Item_Weight']]\n",
        "\n",
        "X3_train, X3_test, y3_train, y3_test = train_test_split(X3, y, random_state = 42)"
      ],
      "execution_count": 305,
      "outputs": []
    },
    {
      "cell_type": "code",
      "metadata": {
        "id": "fDZaTWn2U6HT"
      },
      "source": [
        "dt3 = DecisionTreeRegressor(max_depth = 5, random_state = 42)\n",
        "dt3.fit(X3_train, y_train)\n",
        "dt3_train = dt3.predict(X3_train)\n",
        "dt3_pred = dt3.predict(X3_test)\n",
        "\n",
        "rf3 = RandomForestRegressor(max_depth = 5, random_state = 42)\n",
        "rf3.fit(X3_train, y_train)\n",
        "rf3_train = rf3.predict(X3_train)\n",
        "rf3_pred = rf3.predict(X3_test)"
      ],
      "execution_count": 306,
      "outputs": []
    },
    {
      "cell_type": "code",
      "metadata": {
        "colab": {
          "base_uri": "https://localhost:8080/"
        },
        "id": "bSVw6GYtVCSI",
        "outputId": "436f0df3-8a85-48f3-87a9-ad53eec58922"
      },
      "source": [
        "print('Decision Tree R2 Train', dt3.score(X3_train, y_train))\n",
        "print('Decision Tree R2 Test', dt3.score(X3_test, y_test))"
      ],
      "execution_count": 307,
      "outputs": [
        {
          "output_type": "stream",
          "text": [
            "Decision Tree R2 Train 0.6116720403338863\n",
            "Decision Tree R2 Test 0.5889542653489792\n"
          ],
          "name": "stdout"
        }
      ]
    },
    {
      "cell_type": "code",
      "metadata": {
        "colab": {
          "base_uri": "https://localhost:8080/"
        },
        "id": "wQRbm8meVC4s",
        "outputId": "1a32ffc3-8f54-4e0c-9fe7-0f8025ff3ea2"
      },
      "source": [
        "print('Decision Tree RMSE Train', np.sqrt(mean_squared_error(y_train, dt3_train)))\n",
        "print('Decision Tree RMSE Test', np.sqrt(mean_squared_error(y_test, dt3_pred)))"
      ],
      "execution_count": 308,
      "outputs": [
        {
          "output_type": "stream",
          "text": [
            "Decision Tree RMSE Train 1072.0258371238258\n",
            "Decision Tree RMSE Test 1064.925277262197\n"
          ],
          "name": "stdout"
        }
      ]
    },
    {
      "cell_type": "code",
      "metadata": {
        "colab": {
          "base_uri": "https://localhost:8080/"
        },
        "id": "5_5m4L6CVDmT",
        "outputId": "fab61873-4735-466b-c068-18a8b554ebb7"
      },
      "source": [
        "print('Random Forest R2 Train', rf3.score(X3_train, y_train))\n",
        "print('Random Forest R2 Test', rf3.score(X3_test, y_test))"
      ],
      "execution_count": 309,
      "outputs": [
        {
          "output_type": "stream",
          "text": [
            "Random Forest R2 Train 0.6193858633391127\n",
            "Random Forest R2 Test 0.6015305648209827\n"
          ],
          "name": "stdout"
        }
      ]
    },
    {
      "cell_type": "code",
      "metadata": {
        "colab": {
          "base_uri": "https://localhost:8080/"
        },
        "id": "zGTYHw2YVD79",
        "outputId": "d40f681c-f0fb-4e8c-a0f4-107ba8993894"
      },
      "source": [
        "print('Random Forest RMSE Train', np.sqrt(mean_squared_error(y_train, rf3_train)))\n",
        "print('Random Forest RMSE Test', np.sqrt(mean_squared_error(y_test, rf3_pred)))"
      ],
      "execution_count": 310,
      "outputs": [
        {
          "output_type": "stream",
          "text": [
            "Random Forest RMSE Train 1061.324963413428\n",
            "Random Forest RMSE Test 1048.507568663219\n"
          ],
          "name": "stdout"
        }
      ]
    },
    {
      "cell_type": "markdown",
      "metadata": {
        "id": "qARNA8vxVxdk"
      },
      "source": [
        "Changing the number of features didn't really seem to alter the results, maybe reduced their effectiveness slightly, but not enough to make a big difference in this instance.\n",
        "\n",
        "In my opinion, based on my current knowledge level, the best model choice for predicting Item_Outlet_Sales is the Random Forest Regressor with a max_depth of 5."
      ]
    }
  ]
}